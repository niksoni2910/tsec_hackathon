{
  "nbformat": 4,
  "nbformat_minor": 0,
  "metadata": {
    "colab": {
      "provenance": []
    },
    "kernelspec": {
      "name": "python3",
      "display_name": "Python 3"
    },
    "language_info": {
      "name": "python"
    }
  },
  "cells": [
    {
      "cell_type": "code",
      "execution_count": 1,
      "metadata": {
        "id": "yvCisZsaLzcn"
      },
      "outputs": [],
      "source": [
        "import numpy as np\n",
        "import pandas as pd\n",
        "import matplotlib.pyplot as plt\n",
        "import seaborn as sns\n",
        "import torch\n",
        "import torch.nn as nn\n",
        "import torch.optim as optim\n",
        "from sklearn import preprocessing\n",
        "from torchsummary import summary\n",
        "from sklearn.model_selection import train_test_split\n",
        "from tqdm import tqdm\n",
        "from sklearn.preprocessing import RobustScaler\n",
        "from torch.distributions.categorical import Categorical\n",
        "from sklearn.metrics import ConfusionMatrixDisplay\n",
        "from sklearn.metrics import confusion_matrix\n",
        "from sklearn.metrics import classification_report\n",
        "from torch.utils.data import DataLoader, TensorDataset\n",
        "from sklearn.metrics import accuracy_score\n",
        "\n",
        "import shapely\n",
        "import os\n",
        "import pickle\n",
        "import warnings\n",
        "warnings.filterwarnings('ignore')\n",
        "device = torch.device(\"cuda\" if torch.cuda.is_available() else \"cpu\")"
      ]
    },
    {
      "cell_type": "markdown",
      "metadata": {
        "tags": [],
        "id": "oZD5fYolMamq"
      },
      "source": [
        "# Classification Based"
      ]
    },
    {
      "cell_type": "code",
      "source": [
        "from google.colab import drive\n",
        "drive.mount('/content/drive')"
      ],
      "metadata": {
        "colab": {
          "base_uri": "https://localhost:8080/"
        },
        "id": "McswxzNrK2tX",
        "outputId": "b3b43da9-5bef-4744-a5c6-3410dee28d45"
      },
      "execution_count": 2,
      "outputs": [
        {
          "output_type": "stream",
          "name": "stdout",
          "text": [
            "Mounted at /content/drive\n"
          ]
        }
      ]
    },
    {
      "cell_type": "code",
      "source": [
        "import os\n",
        "\n",
        "# Path to the Google Drive\n",
        "drive_path = '/content/drive/My Drive/'\n",
        "\n",
        "# List all files and folders in the specified path\n",
        "all_files = os.listdir(drive_path)\n",
        "\n",
        "# Display the list of files\n",
        "for file in all_files:\n",
        "    print(file)\n"
      ],
      "metadata": {
        "colab": {
          "base_uri": "https://localhost:8080/"
        },
        "id": "IGCIYlyGN8J7",
        "outputId": "3eb4bc6a-997e-4fe8-e608-203d29c0f518"
      },
      "execution_count": 16,
      "outputs": [
        {
          "output_type": "stream",
          "name": "stdout",
          "text": [
            "Aadhar.jpg\n",
            "Classroom\n",
            "Untitled Jam.gjam\n",
            "IMG-20211115-WA0016.jpg\n",
            "Keyur_resume (1).docx\n",
            "Keyur_resume.docx\n",
            "WhatsApp Image 2022-01-20 at 9.31.54 PM.jpeg\n",
            "Tutorial1_Roughwork.pdf\n",
            "Keyur Doshi - listening skill worksheet.gdoc\n",
            "Dielectric Introduction.gdoc\n",
            "IMG_20220203_154023.jpg\n",
            "IMG-20220301-WA0004.jpg\n",
            "Speech Outline.gdoc\n",
            "Assignment-1_corrected(Complex ).gdoc\n",
            "Engineering_mechanics_journal_final (3).gdoc\n",
            "Traditional Day 2K22\n",
            "Report.gdoc\n",
            "AlgorithmFlowchart.gslides\n",
            "Practical 2- Introduction to C and C-- programming.gdoc\n",
            "FUELS 3-sadri bomb caloriemeter.gdoc\n",
            "Colab Notebooks\n",
            "photo (1).jpg\n",
            "photo.jpg\n",
            "HOME ASSIGNMENT3-211080067 (1).gdoc\n",
            "HOME ASSIGNMENT3-211080067.gdoc\n",
            "IMG-20221114-WA0036.jpg\n",
            "Formals Day '22\n",
            "211080067_LA_Ass-2.pdf\n",
            "Lecture-20-Sorting Algorithms-2.gslides\n",
            "FDS LAB\n",
            "debugthugs.pdf\n",
            "Spit Hackathon Abstract .gdoc\n",
            "os labb\n",
            "OSLAB1_Keyur_211080067.gdoc\n",
            "WhatsApp Image 2023-02-11 at 9.41.56 PM.jpeg\n",
            "dsy mail issue.gsheet\n",
            "Untitled spreadsheet (10).gsheet\n",
            "WhatsApp Image 2023-04-08 at 10.27.49 PM.jpeg\n",
            "aadhar card_2.pdf\n",
            "WhatsApp Image 2023-04-08 at 10.00.08 PM.jpeg\n",
            "WhatsApp Image 2023-04-08 at 7.41.47 PM.jpeg\n",
            "Netra Aadhar Card.pdf\n",
            "Screenshot 2023-04-14 125231.png\n",
            "WhatsApp Image 2023-04-14 at 2.02.43 PM.jpeg\n",
            "DBMS LAB EXP-4.gdoc\n",
            "DBMS LAB EXP-5.gdoc\n",
            "SYIT_DAA.gsheet\n",
            "FischerJordan Internship Application .gform\n",
            "FischerJordan Internship Application  (Responses).gsheet\n",
            "Domain Doubts.gform\n",
            "shortlisted.gsheet\n",
            "Fischer Jordan - 2.gsheet\n",
            "Resume_Keyur (3) (1).pdf\n",
            "Resume_Keyur (3).pdf\n",
            "Goldman Sachs IT (1).gsheet\n",
            "Goldman Sachs (Responses).gsheet\n",
            "Goldman Sachs IT.gsheet\n",
            "Goldman Sachs.gform\n",
            "Installation & Database Design.gdoc\n",
            "CITI Internship Application.gform\n",
            "CITI Internship Application (Responses).gsheet\n",
            "Untitled spreadsheet (9).gsheet\n",
            "211080067_WIM_Assign4\n",
            "NPCI Internship.gform\n",
            "Hilti Registraion Form (Responses).gsheet\n",
            "Hilti Technology Solutions India (Master Sheet).gsheet\n",
            "Hilti Technology Solutions India (Master Sheet).xlsx\n",
            "211080067_All Integrated_Assn \n",
            "Hilti Registraion Form.gform\n",
            "Interview Experiences\n",
            "Payment gateway exp WIM\n",
            "Keyur_Doshi_Resume (1).pdf\n",
            "Goldman Sachs.gsheet\n",
            "Untitled spreadsheet (8).gsheet\n",
            "Untitled document (4).gdoc\n",
            "Abstrac_Set_Bits.gdoc\n",
            "Abstrac_Set_Bits (1).pdf\n",
            "Idea-Presentation-SIH2023--SetBits.pdf\n",
            "Idea-Presentation-SIH2023-SetBits.pdf\n",
            "Untitled document (3).gdoc\n",
            "CP CLUB Round 2.gsheet\n",
            "The CP Club Contest Feedback.gform\n",
            "JAN TRIP TY CS-IT  (Responses).gsheet\n",
            "SAP Labs Internship.gform\n",
            "SAP Labs Internship (Responses).gsheet\n",
            "Untitled form.gform\n",
            "Untitled spreadsheet (7).gsheet\n",
            "Keyur_211080067_SGD_9.pdf\n",
            "WhatsApp Image 2023-11-23 at 5.25.39 PM.jpeg\n",
            "Untitled spreadsheet (6).gsheet\n",
            "Untitled spreadsheet (5).gsheet\n",
            "Untitled spreadsheet (4).gsheet\n",
            "SE - Sample Questions.gdoc\n",
            "Screenshot 2023-12-31 170059.png\n",
            "Suntory Summer Internship.gform\n",
            "Concession Documents\n",
            "Dhruv_Concession\n",
            "Computer Architecture & Parallel Processing_copy.pdf\n",
            "Smit\n",
            "2.py\n",
            "Introduction to Parallel Computing, Second Edition-Ananth Grama, Anshul Gupta, George Karypis, Vipin Kumar.gdoc\n",
            "CUDA.gdoc\n",
            "ml_qb.gdoc\n",
            "Judges_cancelled_cheques\n",
            "Untitled spreadsheet (3).gsheet\n",
            "UBS Internship.gform\n",
            "Sem_4_Marksheet.jpeg\n",
            "Untitled spreadsheet (2).gsheet\n",
            "IT Data (Responses).gsheet\n",
            "NPCI Interns.gsheet\n",
            "Schneider Master Sheet.gsheet\n",
            "SY IT TPO CR Nomination.gform\n",
            "SY IT TPO CR Elections (IT '26).gform\n",
            "211080067_WN_Assn_6.gdoc\n",
            "CoC Codehunt '23.gform\n",
            "BIS Internship Application (1).gform\n",
            "BIS Internship Application.gform\n",
            "Should Democracy exist or not?.gdoc\n",
            "PCS Speech.gdoc\n",
            "Meeting Reports\n",
            "Untitled document (2).gdoc\n",
            "ffk-sjhs-fec - May 25, 2024.gjam\n",
            "Untitled document (1).gdoc\n",
            "Untitled spreadsheet (1).gsheet\n",
            "Untitled document.gdoc\n",
            "GSSOC Info.gdoc\n",
            "BITS DATA.gsheet\n",
            "DoshiKeyur_Resume.gdoc\n",
            "ESE_marksdip.gsheet\n",
            "marks_MST.gsheet\n",
            "TPO.gsheet\n",
            "Internship Report Week 2.gdoc\n",
            "jash mock interview.gdoc\n",
            "Meet Recordings\n",
            "TPO Data 2.gsheet\n",
            "Internship Report Dhruvisha.gdoc\n",
            "Untitled spreadsheet.gsheet\n",
            "Axxela Withdrawal .gform\n",
            "Axxela Withdrawal  (Responses).gsheet\n",
            "Tata Cliq.gdoc\n",
            "bhoomi spons.gsheet\n",
            "Keyur_Doshi_Resume.pdf\n",
            "IT Data.gform\n",
            "SIH2024_IDEA_Presentation_Format- Set_Bits.pptx\n",
            "IT Internship Data 2023-24.gsheet\n",
            "shekhar home\n",
            "Rebel Foods Ideas.gdoc\n",
            "SPM Question Bank (1).gdoc\n",
            "SPM Question Bank.gdoc\n",
            "HI-Small_Trans.csv\n"
          ]
        }
      ]
    },
    {
      "cell_type": "code",
      "execution_count": 3,
      "metadata": {
        "id": "LwXXpQkHMAD1"
      },
      "outputs": [],
      "source": [
        "class Environment:\n",
        "    def __init__(self, data, label):\n",
        "        self.label = label\n",
        "        self.dataset = data\n",
        "        self.current_pos = 0\n",
        "        self.max_pos = len(self.dataset) - 1\n",
        "        self.reward = 0\n",
        "        self.done = False\n",
        "        # self.bce_loss = nn.BCELoss()\n",
        "\n",
        "    def step(self, action):\n",
        "        actual_label = self.label.iloc[self.current_pos]\n",
        "        # actual_label_tensor = torch.FloatTensor([actual_label])\n",
        "\n",
        "        # bce_loss_value = self.bce_loss(action_prob, actual_label_tensor).item()\n",
        "        # reward = bce_loss_value\n",
        "        if action==1:\n",
        "            if actual_label==1:\n",
        "                reward = 100\n",
        "            else:\n",
        "                reward = -200\n",
        "        else:\n",
        "            if actual_label==0:\n",
        "                reward = 10\n",
        "            else:\n",
        "                reward = -50\n",
        "        # print(reward)\n",
        "\n",
        "        self.current_pos +=1\n",
        "        if self.current_pos>=self.max_pos:\n",
        "            self.done = True\n",
        "\n",
        "        next_state = self.dataset.iloc[self.current_pos] if not self.done else None\n",
        "        return next_state, reward, self.done\n",
        "\n",
        "    def reset(self):\n",
        "        self.current_pos = 0\n",
        "        self.done = False\n",
        "        return self.dataset.iloc[self.current_pos]"
      ]
    },
    {
      "cell_type": "code",
      "execution_count": 4,
      "metadata": {
        "id": "E58bh9XEWwBP"
      },
      "outputs": [],
      "source": [
        "actor = nn.Sequential(\n",
        "    nn.Linear(14, 8),   # Input layer: from 10 features to 6 hidden units\n",
        "    nn.LeakyReLU(),\n",
        "    nn.Linear(8, 8),    # Hidden layer: from 6 to 6 hidden units\n",
        "    nn.LeakyReLU(),\n",
        "    nn.Linear(8, 2),    # Output layer: from 6 to 2 output units\n",
        "    nn.Softmax(dim=-1)  # Softmax for probabilities\n",
        ")"
      ]
    },
    {
      "cell_type": "code",
      "execution_count": 5,
      "metadata": {
        "id": "XOMtUHYeXX9a"
      },
      "outputs": [],
      "source": [
        "critic = nn.Sequential(\n",
        "    nn.Linear(14, 8),\n",
        "    nn.LeakyReLU(),\n",
        "    nn.Linear(8, 8),\n",
        "    nn.LeakyReLU(),\n",
        "    nn.Linear(8, 1))"
      ]
    },
    {
      "cell_type": "code",
      "execution_count": 6,
      "metadata": {
        "colab": {
          "base_uri": "https://localhost:8080/"
        },
        "id": "0kxjUCTIMams",
        "outputId": "6f7c02c1-9b94-4b78-9457-1ec3de28d320"
      },
      "outputs": [
        {
          "output_type": "stream",
          "name": "stdout",
          "text": [
            "----------------------------------------------------------------\n",
            "        Layer (type)               Output Shape         Param #\n",
            "================================================================\n",
            "            Linear-1                 [-1, 1, 8]             120\n",
            "         LeakyReLU-2                 [-1, 1, 8]               0\n",
            "            Linear-3                 [-1, 1, 8]              72\n",
            "         LeakyReLU-4                 [-1, 1, 8]               0\n",
            "            Linear-5                 [-1, 1, 2]              18\n",
            "           Softmax-6                 [-1, 1, 2]               0\n",
            "================================================================\n",
            "Total params: 210\n",
            "Trainable params: 210\n",
            "Non-trainable params: 0\n",
            "----------------------------------------------------------------\n",
            "Input size (MB): 0.00\n",
            "Forward/backward pass size (MB): 0.00\n",
            "Params size (MB): 0.00\n",
            "Estimated Total Size (MB): 0.00\n",
            "----------------------------------------------------------------\n"
          ]
        }
      ],
      "source": [
        "summary(actor, input_size = (1,14))"
      ]
    },
    {
      "cell_type": "code",
      "execution_count": 7,
      "metadata": {
        "colab": {
          "base_uri": "https://localhost:8080/"
        },
        "id": "kVySk0HYMamt",
        "outputId": "aa040474-4006-4584-e424-a58df586a07d"
      },
      "outputs": [
        {
          "output_type": "stream",
          "name": "stdout",
          "text": [
            "----------------------------------------------------------------\n",
            "        Layer (type)               Output Shape         Param #\n",
            "================================================================\n",
            "            Linear-1                 [-1, 1, 8]             120\n",
            "         LeakyReLU-2                 [-1, 1, 8]               0\n",
            "            Linear-3                 [-1, 1, 8]              72\n",
            "         LeakyReLU-4                 [-1, 1, 8]               0\n",
            "            Linear-5                 [-1, 1, 1]               9\n",
            "================================================================\n",
            "Total params: 201\n",
            "Trainable params: 201\n",
            "Non-trainable params: 0\n",
            "----------------------------------------------------------------\n",
            "Input size (MB): 0.00\n",
            "Forward/backward pass size (MB): 0.00\n",
            "Params size (MB): 0.00\n",
            "Estimated Total Size (MB): 0.00\n",
            "----------------------------------------------------------------\n"
          ]
        }
      ],
      "source": [
        "summary(critic, input_size = (1,14))"
      ]
    },
    {
      "cell_type": "code",
      "execution_count": 8,
      "metadata": {
        "id": "aABlvbByXkHm"
      },
      "outputs": [],
      "source": [
        "# Define the optimizers\n",
        "actor_optimizer = optim.Adam(actor.parameters(), lr=1e-4)\n",
        "critic_optimizer = optim.Adam(critic.parameters(), lr=1e-4)\n",
        "\n",
        "# Loss function for critic\n",
        "mse_loss = nn.MSELoss()"
      ]
    },
    {
      "cell_type": "code",
      "execution_count": 9,
      "metadata": {
        "id": "MFhyXM-QX744"
      },
      "outputs": [],
      "source": [
        "# Function to select action\n",
        "def select_action(state):\n",
        "    state = torch.FloatTensor(state).unsqueeze(0)\n",
        "    # print(state)\n",
        "    probabilities = actor(state)\n",
        "    action = torch.multinomial(probabilities,num_samples = 1).item()\n",
        "    return action"
      ]
    },
    {
      "cell_type": "code",
      "execution_count": 10,
      "metadata": {
        "id": "kGdjZd20Mamu"
      },
      "outputs": [],
      "source": [
        "def loss_calculations(state, action, reward, next_state, done, I = 0.9, gamma=0.99):\n",
        "    state = torch.FloatTensor(state).unsqueeze(0)\n",
        "    next_state = torch.FloatTensor(next_state).unsqueeze(0) if next_state is not None else torch.zeros_like(state)\n",
        "    action = torch.LongTensor([action])\n",
        "    reward = torch.FloatTensor([reward])\n",
        "    done = torch.FloatTensor([done])\n",
        "\n",
        "    # Update Critic\n",
        "    value = critic(state).squeeze()\n",
        "    next_value = critic(next_state).squeeze()\n",
        "    target = reward + (1.0 - done) * gamma * next_value - value\n",
        "    critic_loss = mse_loss(value, target.detach())\n",
        "\n",
        "    # Update Actor\n",
        "    advantage = target - value\n",
        "    log_prob = torch.log(actor(state).gather(1, action.unsqueeze(1)).squeeze() + 1e-6)\n",
        "    # actor_loss = -I * log_prob * advantage.detach()\n",
        "    actor_loss = - log_prob * advantage.detach()\n",
        "\n",
        "\n",
        "    return actor_loss, critic_loss"
      ]
    },
    {
      "cell_type": "code",
      "execution_count": 11,
      "metadata": {
        "id": "_Nu7QVNLMamu"
      },
      "outputs": [],
      "source": [
        "def update_network(actor_loss, critic_loss):\n",
        "\n",
        "    # Update Critic Parameters\n",
        "    critic_optimizer.zero_grad()\n",
        "    critic_loss.backward()\n",
        "    critic_optimizer.step()\n",
        "\n",
        "    # Update Actor Parameter\n",
        "    actor_optimizer.zero_grad()\n",
        "    actor_loss.backward()\n",
        "    actor_optimizer.step()"
      ]
    },
    {
      "cell_type": "code",
      "execution_count": 17,
      "metadata": {
        "colab": {
          "base_uri": "https://localhost:8080/"
        },
        "id": "yQEilKgtMamu",
        "outputId": "89736e73-2936-4bc5-fc5c-a36462427b41"
      },
      "outputs": [
        {
          "output_type": "stream",
          "name": "stdout",
          "text": [
            "Complete Data Size : (5078345, 11) \n",
            "          Timestamp  From Bank    Account  To Bank  Account.1  \\\n",
            "0  2022/09/01 00:20         10  8000EBD30       10  8000EBD30   \n",
            "1  2022/09/01 00:20       3208  8000F4580        1  8000F5340   \n",
            "2  2022/09/01 00:00       3209  8000F4670     3209  8000F4670   \n",
            "3  2022/09/01 00:02         12  8000F5030       12  8000F5030   \n",
            "4  2022/09/01 00:06         10  8000F5200       10  8000F5200   \n",
            "\n",
            "   Amount Received Receiving Currency  Amount Paid Payment Currency  \\\n",
            "0          3697.34          US Dollar      3697.34        US Dollar   \n",
            "1             0.01          US Dollar         0.01        US Dollar   \n",
            "2         14675.57          US Dollar     14675.57        US Dollar   \n",
            "3          2806.97          US Dollar      2806.97        US Dollar   \n",
            "4         36682.97          US Dollar     36682.97        US Dollar   \n",
            "\n",
            "  Payment Format  Is Laundering  \n",
            "0   Reinvestment              0  \n",
            "1         Cheque              0  \n",
            "2   Reinvestment              0  \n",
            "3   Reinvestment              0  \n",
            "4   Reinvestment              0  \n"
          ]
        }
      ],
      "source": [
        "# Merging Synthetic Data and Original Data\n",
        "\n",
        "data = pd.read_csv('/content/drive/My Drive/HI-Small_Trans.csv')\n",
        "print(f'Complete Data Size : {data.shape} ')\n",
        "print(data.head())"
      ]
    },
    {
      "cell_type": "code",
      "source": [
        "print(data.shape)"
      ],
      "metadata": {
        "colab": {
          "base_uri": "https://localhost:8080/"
        },
        "id": "nqfV7Ly8jpPH",
        "outputId": "de3f4815-d955-40c5-ca02-dbe617b96821"
      },
      "execution_count": 19,
      "outputs": [
        {
          "output_type": "stream",
          "name": "stdout",
          "text": [
            "(5078345, 11)\n"
          ]
        }
      ]
    },
    {
      "cell_type": "code",
      "execution_count": 20,
      "metadata": {
        "colab": {
          "base_uri": "https://localhost:8080/"
        },
        "id": "YlEnW8mIMamv",
        "outputId": "f2d9eb55-3214-4fe2-c235-d6940abce423"
      },
      "outputs": [
        {
          "output_type": "stream",
          "name": "stdout",
          "text": [
            "In Training Data\n",
            "Low : (45,) \n",
            "High : (46167,)\n",
            "In Testing Data\n",
            "Low : (19,) \n",
            "High : (19787,)\n"
          ]
        }
      ],
      "source": [
        "# Train Test Split\n",
        "data = data.sample(frac=0.013, random_state=42)\n",
        "X = data.drop('Is Laundering', axis = 1)\n",
        "y = data['Is Laundering']\n",
        "X_train, X_test, y_train, y_test = train_test_split(X, y, test_size = 0.3, random_state=42)\n",
        "low = y_train[y_train==1]\n",
        "high = y_train[y_train==0]\n",
        "low2 = y_test[y_test==1]\n",
        "high2 = y_test[y_test==0]\n",
        "print(\"In Training Data\")\n",
        "print(f'Low : {low.shape} \\nHigh : {high.shape}' )\n",
        "print(\"In Testing Data\")\n",
        "print(f'Low : {low2.shape} \\nHigh : {high2.shape}' )"
      ]
    },
    {
      "cell_type": "code",
      "execution_count": 21,
      "metadata": {
        "colab": {
          "base_uri": "https://localhost:8080/"
        },
        "id": "aFA6LyceMamv",
        "outputId": "bacddd84-04f8-4c9d-ad31-3157e6338571"
      },
      "outputs": [
        {
          "output_type": "stream",
          "name": "stdout",
          "text": [
            "(46212, 10)\n",
            "(46212, 2)\n",
            "(46212, 10)\n",
            "   Amount Received  Amount Paid         Timestamp  From Bank    Account  \\\n",
            "0        -0.117883    -0.118625  2022/09/02 03:35        124  813641EE1   \n",
            "1        -0.109976    -0.110675  2022/09/06 08:12         10  80005D980   \n",
            "2        32.397019    32.576616  2022/09/08 05:28        220  8100E43A0   \n",
            "3        -0.112523    -0.113236  2022/09/09 21:14      21611  80BFBE320   \n",
            "4         0.333882     0.335645  2022/09/09 00:09       6276  807A2AE40   \n",
            "\n",
            "   To Bank  Account.1 Receiving Currency Payment Currency Payment Format  \n",
            "0      124  813641EE1            Bitcoin          Bitcoin        Bitcoin  \n",
            "1       10  800947560          US Dollar        US Dollar    Credit Card  \n",
            "2    45279  8118383B0             Shekel           Shekel           Wire  \n",
            "3   130637  80FEAF310          US Dollar        US Dollar         Cheque  \n",
            "4   113798  8098B01D0          US Dollar        US Dollar            ACH  \n"
          ]
        }
      ],
      "source": [
        "os.makedirs('models', exist_ok=True)\n",
        "# Print the shape of the training data\n",
        "print(X_train.shape)\n",
        "\n",
        "# Select only numerical columns\n",
        "# X_numerical = X_train.select_dtypes(include=['float64', 'int64'])|\n",
        "X_numerical = X_train[['Amount Received','Amount Paid']]\n",
        "X_non_numerical = X_train.drop(['Amount Received','Amount Paid'], axis = 1)\n",
        "# Apply RobustScaler\n",
        "transformer = RobustScaler().fit(X_numerical)\n",
        "\n",
        "with open('models/robust_scaler_6M.pkl', 'wb') as f:\n",
        "    pickle.dump(transformer, f)\n",
        "\n",
        "normalized_numerical = pd.DataFrame(transformer.transform(X_numerical), columns=X_numerical.columns)\n",
        "print(normalized_numerical.shape)\n",
        "normalized_numerical.reset_index(drop=True, inplace=True)\n",
        "# X_non_numerical = X_train.select_dtypes(exclude=['float64', 'int64'])\n",
        "X_final = pd.concat([normalized_numerical, X_non_numerical.reset_index(drop=True)], axis=1)\n",
        "\n",
        "print(X_final.shape)\n",
        "print(X_final.head())\n"
      ]
    },
    {
      "cell_type": "code",
      "source": [
        "# Identify non-datetime values in the 'Timestamp' column\n",
        "invalid_timestamps = X_train[~X_train['Timestamp'].str.match(r'\\d{4}/\\d{2}/\\d{2} \\d{2}:\\d{2}', na=False)]\n",
        "print(\"Invalid Timestamp entries:\")\n",
        "print(invalid_timestamps)\n",
        "\n",
        "# Remove rows with invalid 'Timestamp' values\n",
        "X_train = X_train[X_train['Timestamp'].str.match(r'\\d{4}/\\d{2}/\\d{2} \\d{2}:\\d{2}', na=False)]\n",
        "\n",
        "# Convert 'Timestamp' to datetime format after cleaning\n",
        "X_train['Timestamp'] = pd.to_datetime(X_train['Timestamp'], format='%Y/%m/%d %H:%M')\n",
        "\n",
        "# Extract features from 'Timestamp'\n",
        "X_train['Year'] = X_train['Timestamp'].dt.year\n",
        "X_train['Month'] = X_train['Timestamp'].dt.month\n",
        "X_train['Day'] = X_train['Timestamp'].dt.day\n",
        "X_train['Hour'] = X_train['Timestamp'].dt.hour\n",
        "X_train['Minute'] = X_train['Timestamp'].dt.minute\n",
        "\n",
        "# Drop the original 'Timestamp' column\n",
        "X_train.drop('Timestamp', axis=1, inplace=True)\n",
        "\n"
      ],
      "metadata": {
        "colab": {
          "base_uri": "https://localhost:8080/"
        },
        "id": "_GhSY4ahjC0i",
        "outputId": "acd4d605-1357-44af-a093-a501d18551a4"
      },
      "execution_count": 22,
      "outputs": [
        {
          "output_type": "stream",
          "name": "stdout",
          "text": [
            "Invalid Timestamp entries:\n",
            "Empty DataFrame\n",
            "Columns: [Timestamp, From Bank, Account, To Bank, Account.1, Amount Received, Receiving Currency, Amount Paid, Payment Currency, Payment Format]\n",
            "Index: []\n"
          ]
        }
      ]
    },
    {
      "cell_type": "code",
      "source": [
        "from sklearn.preprocessing import LabelEncoder\n",
        "\n",
        "# Convert all categorical columns to string type before applying LabelEncoder\n",
        "for col in ['From Bank', 'Account', 'Account.1', 'Receiving Currency', 'Payment Currency', 'Payment Format']:\n",
        "    X_train[col] = X_train[col].astype(str)\n",
        "\n",
        "# Now apply LabelEncoder\n",
        "label_encoder = LabelEncoder()\n",
        "for col in ['From Bank', 'Account', 'Account.1', 'Receiving Currency', 'Payment Currency', 'Payment Format']:\n",
        "    X_train[col] = label_encoder.fit_transform(X_train[col])\n",
        "\n",
        "# Fill missing values if any\n",
        "X_train.fillna(0, inplace=True)\n",
        "\n",
        "# Verify all columns are numerical now\n",
        "print(X_train.dtypes)\n",
        "# Proceed with your training loop"
      ],
      "metadata": {
        "colab": {
          "base_uri": "https://localhost:8080/"
        },
        "id": "-EQPYTGvnqwu",
        "outputId": "88318ac1-ac22-4208-81b9-cfe14bb0437e"
      },
      "execution_count": 23,
      "outputs": [
        {
          "output_type": "stream",
          "name": "stdout",
          "text": [
            "From Bank               int64\n",
            "Account                 int64\n",
            "To Bank                 int64\n",
            "Account.1               int64\n",
            "Amount Received       float64\n",
            "Receiving Currency      int64\n",
            "Amount Paid           float64\n",
            "Payment Currency        int64\n",
            "Payment Format          int64\n",
            "Year                    int32\n",
            "Month                   int32\n",
            "Day                     int32\n",
            "Hour                    int32\n",
            "Minute                  int32\n",
            "dtype: object\n"
          ]
        }
      ]
    },
    {
      "cell_type": "code",
      "source": [
        "print(X_train.shape)"
      ],
      "metadata": {
        "colab": {
          "base_uri": "https://localhost:8080/"
        },
        "id": "xpJKRpYSrjyi",
        "outputId": "517d3b20-9324-46af-d98c-1414deac72f6"
      },
      "execution_count": 24,
      "outputs": [
        {
          "output_type": "stream",
          "name": "stdout",
          "text": [
            "(46212, 14)\n"
          ]
        }
      ]
    },
    {
      "cell_type": "code",
      "execution_count": 26,
      "metadata": {
        "id": "tsHdwvbqYclU",
        "colab": {
          "base_uri": "https://localhost:8080/"
        },
        "outputId": "4d9748a4-367b-4d60-e860-f516b62977cb"
      },
      "outputs": [
        {
          "metadata": {
            "tags": null
          },
          "name": "stdout",
          "output_type": "stream",
          "text": [
            "Training Examples Shape :  (46212, 14)\n"
          ]
        },
        {
          "output_type": "stream",
          "name": "stderr",
          "text": [
            "100%|██████████| 100/100 [2:45:56<00:00, 99.57s/it]"
          ]
        },
        {
          "output_type": "stream",
          "name": "stdout",
          "text": [
            "CPU times: user 2h 45min 41s, sys: 29.6 s, total: 2h 46min 11s\n",
            "Wall time: 2h 45min 56s\n"
          ]
        },
        {
          "output_type": "stream",
          "name": "stderr",
          "text": [
            "\n"
          ]
        }
      ],
      "source": [
        "%%time\n",
        "print(f'Training Examples Shape : ',X_train.shape)\n",
        "env = Environment(X_train, y_train)\n",
        "num_episodes = 100\n",
        "batch_size = 100\n",
        "rew = []\n",
        "actor_ls_episodic = []\n",
        "critic_ls_episodic = []\n",
        "gamma = 0.99\n",
        "\n",
        "# Assuming `env` is your environment object\n",
        "for episode in tqdm(range(1, num_episodes + 1)):\n",
        "    state = env.reset()\n",
        "    episode_reward = 0\n",
        "    done = False\n",
        "    size = len(X_train)\n",
        "    actor_loss=0\n",
        "    critic_loss = 0\n",
        "    iteration = 1\n",
        "    actor_ls = []\n",
        "    critic_ls = []\n",
        "    while not done:\n",
        "\n",
        "        # To get action, next_state, reward\n",
        "        action = select_action(state)\n",
        "        next_state, reward, done = env.step(action)\n",
        "\n",
        "        # To calculate Loss\n",
        "        ac_loss, ct_loss = loss_calculations(state, action, reward, next_state, done, gamma)\n",
        "        actor_loss += ac_loss\n",
        "        critic_loss += ct_loss\n",
        "\n",
        "        # To update parameters in batches\n",
        "        if iteration==batch_size:\n",
        "            al = actor_loss/batch_size\n",
        "            cl = critic_loss/batch_size\n",
        "            update_network(al, cl)\n",
        "\n",
        "            actor_ls.append(al)\n",
        "            critic_ls.append(cl)\n",
        "            actor_loss = 0\n",
        "            critic_loss = 0\n",
        "            iteration = 1\n",
        "\n",
        "        state = next_state\n",
        "        episode_reward += reward\n",
        "        iteration+=1\n",
        "        # I *= gamma\n",
        "\n",
        "        if done:\n",
        "            break\n",
        "\n",
        "    # For last remaining batch of examples\n",
        "    al = actor_loss/iteration\n",
        "    cl = critic_loss/iteration\n",
        "    update_network(al, cl)\n",
        "    actor_ls.append(al)\n",
        "    critic_ls.append(cl)\n",
        "\n",
        "    actor_ls_episodic.append((sum(actor_ls)/len(actor_ls)).item())\n",
        "    critic_ls_episodic.append((sum(critic_ls)/len(critic_ls)).item())\n",
        "    rew.append(episode_reward)\n",
        "    # Assuming you have hooks registered\n",
        "    # for hook in model.hooks:\n",
        "    #     hook.remove()\n",
        "\n",
        "    torch.save(actor, 'models/ACTOR_1M.pth')\n",
        "    torch.save(critic, 'models/CRITIC_1M.pth')\n"
      ]
    },
    {
      "cell_type": "code",
      "execution_count": 41,
      "metadata": {
        "colab": {
          "base_uri": "https://localhost:8080/",
          "height": 1000
        },
        "id": "cIzawM7EMamw",
        "outputId": "8c016591-e9e6-48d0-86c6-de2e95c911e9"
      },
      "outputs": [
        {
          "output_type": "error",
          "ename": "FileNotFoundError",
          "evalue": "[Errno 2] No such file or directory: '/content/data/10episodes.png'",
          "traceback": [
            "\u001b[0;31m---------------------------------------------------------------------------\u001b[0m",
            "\u001b[0;31mFileNotFoundError\u001b[0m                         Traceback (most recent call last)",
            "\u001b[0;32m<ipython-input-41-89aef900acf3>\u001b[0m in \u001b[0;36m<cell line: 28>\u001b[0;34m()\u001b[0m\n\u001b[1;32m     26\u001b[0m \u001b[0mplt\u001b[0m\u001b[0;34m.\u001b[0m\u001b[0mtight_layout\u001b[0m\u001b[0;34m(\u001b[0m\u001b[0;34m)\u001b[0m\u001b[0;34m\u001b[0m\u001b[0;34m\u001b[0m\u001b[0m\n\u001b[1;32m     27\u001b[0m \u001b[0;34m\u001b[0m\u001b[0m\n\u001b[0;32m---> 28\u001b[0;31m \u001b[0mplt\u001b[0m\u001b[0;34m.\u001b[0m\u001b[0msavefig\u001b[0m\u001b[0;34m(\u001b[0m\u001b[0;34m'data/10episodes.png'\u001b[0m\u001b[0;34m)\u001b[0m\u001b[0;34m\u001b[0m\u001b[0;34m\u001b[0m\u001b[0m\n\u001b[0m\u001b[1;32m     29\u001b[0m \u001b[0;31m# Show the plots\u001b[0m\u001b[0;34m\u001b[0m\u001b[0;34m\u001b[0m\u001b[0m\n\u001b[1;32m     30\u001b[0m \u001b[0mplt\u001b[0m\u001b[0;34m.\u001b[0m\u001b[0mshow\u001b[0m\u001b[0;34m(\u001b[0m\u001b[0;34m)\u001b[0m\u001b[0;34m\u001b[0m\u001b[0;34m\u001b[0m\u001b[0m\n",
            "\u001b[0;32m/usr/local/lib/python3.10/dist-packages/matplotlib/pyplot.py\u001b[0m in \u001b[0;36msavefig\u001b[0;34m(*args, **kwargs)\u001b[0m\n\u001b[1;32m   1021\u001b[0m \u001b[0;32mdef\u001b[0m \u001b[0msavefig\u001b[0m\u001b[0;34m(\u001b[0m\u001b[0;34m*\u001b[0m\u001b[0margs\u001b[0m\u001b[0;34m,\u001b[0m \u001b[0;34m**\u001b[0m\u001b[0mkwargs\u001b[0m\u001b[0;34m)\u001b[0m\u001b[0;34m:\u001b[0m\u001b[0;34m\u001b[0m\u001b[0;34m\u001b[0m\u001b[0m\n\u001b[1;32m   1022\u001b[0m     \u001b[0mfig\u001b[0m \u001b[0;34m=\u001b[0m \u001b[0mgcf\u001b[0m\u001b[0;34m(\u001b[0m\u001b[0;34m)\u001b[0m\u001b[0;34m\u001b[0m\u001b[0;34m\u001b[0m\u001b[0m\n\u001b[0;32m-> 1023\u001b[0;31m     \u001b[0mres\u001b[0m \u001b[0;34m=\u001b[0m \u001b[0mfig\u001b[0m\u001b[0;34m.\u001b[0m\u001b[0msavefig\u001b[0m\u001b[0;34m(\u001b[0m\u001b[0;34m*\u001b[0m\u001b[0margs\u001b[0m\u001b[0;34m,\u001b[0m \u001b[0;34m**\u001b[0m\u001b[0mkwargs\u001b[0m\u001b[0;34m)\u001b[0m\u001b[0;34m\u001b[0m\u001b[0;34m\u001b[0m\u001b[0m\n\u001b[0m\u001b[1;32m   1024\u001b[0m     \u001b[0mfig\u001b[0m\u001b[0;34m.\u001b[0m\u001b[0mcanvas\u001b[0m\u001b[0;34m.\u001b[0m\u001b[0mdraw_idle\u001b[0m\u001b[0;34m(\u001b[0m\u001b[0;34m)\u001b[0m  \u001b[0;31m# Need this if 'transparent=True', to reset colors.\u001b[0m\u001b[0;34m\u001b[0m\u001b[0;34m\u001b[0m\u001b[0m\n\u001b[1;32m   1025\u001b[0m     \u001b[0;32mreturn\u001b[0m \u001b[0mres\u001b[0m\u001b[0;34m\u001b[0m\u001b[0;34m\u001b[0m\u001b[0m\n",
            "\u001b[0;32m/usr/local/lib/python3.10/dist-packages/matplotlib/figure.py\u001b[0m in \u001b[0;36msavefig\u001b[0;34m(self, fname, transparent, **kwargs)\u001b[0m\n\u001b[1;32m   3341\u001b[0m                         ax.patch._cm_set(facecolor='none', edgecolor='none'))\n\u001b[1;32m   3342\u001b[0m \u001b[0;34m\u001b[0m\u001b[0m\n\u001b[0;32m-> 3343\u001b[0;31m             \u001b[0mself\u001b[0m\u001b[0;34m.\u001b[0m\u001b[0mcanvas\u001b[0m\u001b[0;34m.\u001b[0m\u001b[0mprint_figure\u001b[0m\u001b[0;34m(\u001b[0m\u001b[0mfname\u001b[0m\u001b[0;34m,\u001b[0m \u001b[0;34m**\u001b[0m\u001b[0mkwargs\u001b[0m\u001b[0;34m)\u001b[0m\u001b[0;34m\u001b[0m\u001b[0;34m\u001b[0m\u001b[0m\n\u001b[0m\u001b[1;32m   3344\u001b[0m \u001b[0;34m\u001b[0m\u001b[0m\n\u001b[1;32m   3345\u001b[0m     def ginput(self, n=1, timeout=30, show_clicks=True,\n",
            "\u001b[0;32m/usr/local/lib/python3.10/dist-packages/matplotlib/backend_bases.py\u001b[0m in \u001b[0;36mprint_figure\u001b[0;34m(self, filename, dpi, facecolor, edgecolor, orientation, format, bbox_inches, pad_inches, bbox_extra_artists, backend, **kwargs)\u001b[0m\n\u001b[1;32m   2364\u001b[0m                 \u001b[0;31m# force the figure dpi to 72), so we need to set it again here.\u001b[0m\u001b[0;34m\u001b[0m\u001b[0;34m\u001b[0m\u001b[0m\n\u001b[1;32m   2365\u001b[0m                 \u001b[0;32mwith\u001b[0m \u001b[0mcbook\u001b[0m\u001b[0;34m.\u001b[0m\u001b[0m_setattr_cm\u001b[0m\u001b[0;34m(\u001b[0m\u001b[0mself\u001b[0m\u001b[0;34m.\u001b[0m\u001b[0mfigure\u001b[0m\u001b[0;34m,\u001b[0m \u001b[0mdpi\u001b[0m\u001b[0;34m=\u001b[0m\u001b[0mdpi\u001b[0m\u001b[0;34m)\u001b[0m\u001b[0;34m:\u001b[0m\u001b[0;34m\u001b[0m\u001b[0;34m\u001b[0m\u001b[0m\n\u001b[0;32m-> 2366\u001b[0;31m                     result = print_method(\n\u001b[0m\u001b[1;32m   2367\u001b[0m                         \u001b[0mfilename\u001b[0m\u001b[0;34m,\u001b[0m\u001b[0;34m\u001b[0m\u001b[0;34m\u001b[0m\u001b[0m\n\u001b[1;32m   2368\u001b[0m                         \u001b[0mfacecolor\u001b[0m\u001b[0;34m=\u001b[0m\u001b[0mfacecolor\u001b[0m\u001b[0;34m,\u001b[0m\u001b[0;34m\u001b[0m\u001b[0;34m\u001b[0m\u001b[0m\n",
            "\u001b[0;32m/usr/local/lib/python3.10/dist-packages/matplotlib/backend_bases.py\u001b[0m in \u001b[0;36m<lambda>\u001b[0;34m(*args, **kwargs)\u001b[0m\n\u001b[1;32m   2230\u001b[0m                 \"bbox_inches_restore\"}\n\u001b[1;32m   2231\u001b[0m             \u001b[0mskip\u001b[0m \u001b[0;34m=\u001b[0m \u001b[0moptional_kws\u001b[0m \u001b[0;34m-\u001b[0m \u001b[0;34m{\u001b[0m\u001b[0;34m*\u001b[0m\u001b[0minspect\u001b[0m\u001b[0;34m.\u001b[0m\u001b[0msignature\u001b[0m\u001b[0;34m(\u001b[0m\u001b[0mmeth\u001b[0m\u001b[0;34m)\u001b[0m\u001b[0;34m.\u001b[0m\u001b[0mparameters\u001b[0m\u001b[0;34m}\u001b[0m\u001b[0;34m\u001b[0m\u001b[0;34m\u001b[0m\u001b[0m\n\u001b[0;32m-> 2232\u001b[0;31m             print_method = functools.wraps(meth)(lambda *args, **kwargs: meth(\n\u001b[0m\u001b[1;32m   2233\u001b[0m                 *args, **{k: v for k, v in kwargs.items() if k not in skip}))\n\u001b[1;32m   2234\u001b[0m         \u001b[0;32melse\u001b[0m\u001b[0;34m:\u001b[0m  \u001b[0;31m# Let third-parties do as they see fit.\u001b[0m\u001b[0;34m\u001b[0m\u001b[0;34m\u001b[0m\u001b[0m\n",
            "\u001b[0;32m/usr/local/lib/python3.10/dist-packages/matplotlib/backends/backend_agg.py\u001b[0m in \u001b[0;36mprint_png\u001b[0;34m(self, filename_or_obj, metadata, pil_kwargs)\u001b[0m\n\u001b[1;32m    507\u001b[0m             \u001b[0;34m*\u001b[0m\u001b[0mmetadata\u001b[0m\u001b[0;34m*\u001b[0m\u001b[0;34m,\u001b[0m \u001b[0mincluding\u001b[0m \u001b[0mthe\u001b[0m \u001b[0mdefault\u001b[0m \u001b[0;34m'Software'\u001b[0m \u001b[0mkey\u001b[0m\u001b[0;34m.\u001b[0m\u001b[0;34m\u001b[0m\u001b[0;34m\u001b[0m\u001b[0m\n\u001b[1;32m    508\u001b[0m         \"\"\"\n\u001b[0;32m--> 509\u001b[0;31m         \u001b[0mself\u001b[0m\u001b[0;34m.\u001b[0m\u001b[0m_print_pil\u001b[0m\u001b[0;34m(\u001b[0m\u001b[0mfilename_or_obj\u001b[0m\u001b[0;34m,\u001b[0m \u001b[0;34m\"png\"\u001b[0m\u001b[0;34m,\u001b[0m \u001b[0mpil_kwargs\u001b[0m\u001b[0;34m,\u001b[0m \u001b[0mmetadata\u001b[0m\u001b[0;34m)\u001b[0m\u001b[0;34m\u001b[0m\u001b[0;34m\u001b[0m\u001b[0m\n\u001b[0m\u001b[1;32m    510\u001b[0m \u001b[0;34m\u001b[0m\u001b[0m\n\u001b[1;32m    511\u001b[0m     \u001b[0;32mdef\u001b[0m \u001b[0mprint_to_buffer\u001b[0m\u001b[0;34m(\u001b[0m\u001b[0mself\u001b[0m\u001b[0;34m)\u001b[0m\u001b[0;34m:\u001b[0m\u001b[0;34m\u001b[0m\u001b[0;34m\u001b[0m\u001b[0m\n",
            "\u001b[0;32m/usr/local/lib/python3.10/dist-packages/matplotlib/backends/backend_agg.py\u001b[0m in \u001b[0;36m_print_pil\u001b[0;34m(self, filename_or_obj, fmt, pil_kwargs, metadata)\u001b[0m\n\u001b[1;32m    456\u001b[0m         \"\"\"\n\u001b[1;32m    457\u001b[0m         \u001b[0mFigureCanvasAgg\u001b[0m\u001b[0;34m.\u001b[0m\u001b[0mdraw\u001b[0m\u001b[0;34m(\u001b[0m\u001b[0mself\u001b[0m\u001b[0;34m)\u001b[0m\u001b[0;34m\u001b[0m\u001b[0;34m\u001b[0m\u001b[0m\n\u001b[0;32m--> 458\u001b[0;31m         mpl.image.imsave(\n\u001b[0m\u001b[1;32m    459\u001b[0m             \u001b[0mfilename_or_obj\u001b[0m\u001b[0;34m,\u001b[0m \u001b[0mself\u001b[0m\u001b[0;34m.\u001b[0m\u001b[0mbuffer_rgba\u001b[0m\u001b[0;34m(\u001b[0m\u001b[0;34m)\u001b[0m\u001b[0;34m,\u001b[0m \u001b[0mformat\u001b[0m\u001b[0;34m=\u001b[0m\u001b[0mfmt\u001b[0m\u001b[0;34m,\u001b[0m \u001b[0morigin\u001b[0m\u001b[0;34m=\u001b[0m\u001b[0;34m\"upper\"\u001b[0m\u001b[0;34m,\u001b[0m\u001b[0;34m\u001b[0m\u001b[0;34m\u001b[0m\u001b[0m\n\u001b[1;32m    460\u001b[0m             dpi=self.figure.dpi, metadata=metadata, pil_kwargs=pil_kwargs)\n",
            "\u001b[0;32m/usr/local/lib/python3.10/dist-packages/matplotlib/image.py\u001b[0m in \u001b[0;36mimsave\u001b[0;34m(fname, arr, vmin, vmax, cmap, format, origin, dpi, metadata, pil_kwargs)\u001b[0m\n\u001b[1;32m   1687\u001b[0m         \u001b[0mpil_kwargs\u001b[0m\u001b[0;34m.\u001b[0m\u001b[0msetdefault\u001b[0m\u001b[0;34m(\u001b[0m\u001b[0;34m\"format\"\u001b[0m\u001b[0;34m,\u001b[0m \u001b[0mformat\u001b[0m\u001b[0;34m)\u001b[0m\u001b[0;34m\u001b[0m\u001b[0;34m\u001b[0m\u001b[0m\n\u001b[1;32m   1688\u001b[0m         \u001b[0mpil_kwargs\u001b[0m\u001b[0;34m.\u001b[0m\u001b[0msetdefault\u001b[0m\u001b[0;34m(\u001b[0m\u001b[0;34m\"dpi\"\u001b[0m\u001b[0;34m,\u001b[0m \u001b[0;34m(\u001b[0m\u001b[0mdpi\u001b[0m\u001b[0;34m,\u001b[0m \u001b[0mdpi\u001b[0m\u001b[0;34m)\u001b[0m\u001b[0;34m)\u001b[0m\u001b[0;34m\u001b[0m\u001b[0;34m\u001b[0m\u001b[0m\n\u001b[0;32m-> 1689\u001b[0;31m         \u001b[0mimage\u001b[0m\u001b[0;34m.\u001b[0m\u001b[0msave\u001b[0m\u001b[0;34m(\u001b[0m\u001b[0mfname\u001b[0m\u001b[0;34m,\u001b[0m \u001b[0;34m**\u001b[0m\u001b[0mpil_kwargs\u001b[0m\u001b[0;34m)\u001b[0m\u001b[0;34m\u001b[0m\u001b[0;34m\u001b[0m\u001b[0m\n\u001b[0m\u001b[1;32m   1690\u001b[0m \u001b[0;34m\u001b[0m\u001b[0m\n\u001b[1;32m   1691\u001b[0m \u001b[0;34m\u001b[0m\u001b[0m\n",
            "\u001b[0;32m/usr/local/lib/python3.10/dist-packages/PIL/Image.py\u001b[0m in \u001b[0;36msave\u001b[0;34m(self, fp, format, **params)\u001b[0m\n\u001b[1;32m   2561\u001b[0m                 \u001b[0mfp\u001b[0m \u001b[0;34m=\u001b[0m \u001b[0mbuiltins\u001b[0m\u001b[0;34m.\u001b[0m\u001b[0mopen\u001b[0m\u001b[0;34m(\u001b[0m\u001b[0mfilename\u001b[0m\u001b[0;34m,\u001b[0m \u001b[0;34m\"r+b\"\u001b[0m\u001b[0;34m)\u001b[0m\u001b[0;34m\u001b[0m\u001b[0;34m\u001b[0m\u001b[0m\n\u001b[1;32m   2562\u001b[0m             \u001b[0;32melse\u001b[0m\u001b[0;34m:\u001b[0m\u001b[0;34m\u001b[0m\u001b[0;34m\u001b[0m\u001b[0m\n\u001b[0;32m-> 2563\u001b[0;31m                 \u001b[0mfp\u001b[0m \u001b[0;34m=\u001b[0m \u001b[0mbuiltins\u001b[0m\u001b[0;34m.\u001b[0m\u001b[0mopen\u001b[0m\u001b[0;34m(\u001b[0m\u001b[0mfilename\u001b[0m\u001b[0;34m,\u001b[0m \u001b[0;34m\"w+b\"\u001b[0m\u001b[0;34m)\u001b[0m\u001b[0;34m\u001b[0m\u001b[0;34m\u001b[0m\u001b[0m\n\u001b[0m\u001b[1;32m   2564\u001b[0m         \u001b[0;32melse\u001b[0m\u001b[0;34m:\u001b[0m\u001b[0;34m\u001b[0m\u001b[0;34m\u001b[0m\u001b[0m\n\u001b[1;32m   2565\u001b[0m             \u001b[0mfp\u001b[0m \u001b[0;34m=\u001b[0m \u001b[0mcast\u001b[0m\u001b[0;34m(\u001b[0m\u001b[0mIO\u001b[0m\u001b[0;34m[\u001b[0m\u001b[0mbytes\u001b[0m\u001b[0;34m]\u001b[0m\u001b[0;34m,\u001b[0m \u001b[0mfp\u001b[0m\u001b[0;34m)\u001b[0m\u001b[0;34m\u001b[0m\u001b[0;34m\u001b[0m\u001b[0m\n",
            "\u001b[0;31mFileNotFoundError\u001b[0m: [Errno 2] No such file or directory: '/content/data/10episodes.png'"
          ]
        },
        {
          "output_type": "display_data",
          "data": {
            "text/plain": [
              "<Figure size 1000x1200 with 3 Axes>"
            ],
            "image/png": "[encoded data removed]"
          },
          "metadata": {}
        }
      ],
      "source": [
        "fig, axs = plt.subplots(3, 1, figsize=(10, 12))\n",
        "episodes = list(range(1,101))\n",
        "\n",
        "# Plot Reward vs Episodes\n",
        "axs[0].plot(episodes, rew, 'b-', label='Reward')\n",
        "axs[0].set_title('Reward vs Episodes')\n",
        "axs[0].set_xlabel('Episodes')\n",
        "axs[0].set_ylabel('Reward')\n",
        "axs[0].legend()\n",
        "\n",
        "# Plot Actor Loss vs Episodes\n",
        "axs[1].plot(episodes, actor_ls_episodic, 'r-', label='Actor Loss')\n",
        "axs[1].set_title('Actor Loss vs Episodes')\n",
        "axs[1].set_xlabel('Episodes')\n",
        "axs[1].set_ylabel('Actor Loss')\n",
        "axs[1].legend()\n",
        "\n",
        "# Plot Critic Loss vs Episodes\n",
        "axs[2].plot(episodes, critic_ls_episodic, 'g-', label='Critic Loss')\n",
        "axs[2].set_title('Critic Loss vs Episodes')\n",
        "axs[2].set_xlabel('Episodes')\n",
        "axs[2].set_ylabel('Critic Loss')\n",
        "axs[2].legend()\n",
        "\n",
        "# Adjust layout to prevent overlap\n",
        "plt.tight_layout()\n",
        "\n",
        "plt.savefig('data/10episodes.png')\n",
        "# Show the plots\n",
        "plt.show()\n"
      ]
    },
    {
      "cell_type": "code",
      "execution_count": 42,
      "metadata": {
        "colab": {
          "base_uri": "https://localhost:8080/"
        },
        "id": "O8ZS9OkWMamw",
        "outputId": "0d31c4f7-179d-4698-d145-a60bf8bbf268"
      },
      "outputs": [
        {
          "output_type": "stream",
          "name": "stdout",
          "text": [
            "0.weight: Parameter containing:\n",
            "tensor([[-0.0116,  0.0863,  0.0257, -0.0741,  0.0404, -0.1257, -0.0708,  0.2222,\n",
            "          0.0547, -0.0377,  0.1598, -0.1192, -0.0383, -0.1270],\n",
            "        [ 0.1038, -0.1873, -0.0268,  0.2428,  0.0758,  0.2271, -0.0243, -0.0366,\n",
            "         -0.0353, -0.1751,  0.0849,  0.2400, -0.2491,  0.0178],\n",
            "        [-0.0386,  0.1833,  0.0805, -0.1903, -0.0642,  0.1067,  0.0934, -0.2664,\n",
            "         -0.1367, -0.1336,  0.0905, -0.2151,  0.2419, -0.2522],\n",
            "        [-0.2513,  0.0005,  0.2000, -0.1143,  0.1597, -0.2310, -0.0861, -0.1927,\n",
            "         -0.0123, -0.1610, -0.2041,  0.0808,  0.1805, -0.1987],\n",
            "        [-0.1253,  0.0746, -0.0969,  0.1944, -0.1954, -0.1076, -0.2593, -0.1390,\n",
            "          0.1054, -0.0246, -0.2362, -0.0776, -0.0592,  0.1510],\n",
            "        [ 0.1267,  0.2317, -0.1835, -0.2094, -0.0062, -0.1683,  0.0798,  0.0243,\n",
            "         -0.2074,  0.1175,  0.1990,  0.1500, -0.2084, -0.0349],\n",
            "        [ 0.1865, -0.0615, -0.0615, -0.1990, -0.0224,  0.1731, -0.1309, -0.2302,\n",
            "         -0.2278,  0.0961,  0.0897,  0.2185,  0.2472,  0.1272],\n",
            "        [ 0.2627, -0.1489,  0.0871, -0.0231,  0.0669,  0.2236, -0.0533, -0.1104,\n",
            "         -0.0979,  0.2410, -0.0304, -0.0174, -0.2629, -0.2059]],\n",
            "       requires_grad=True)\n",
            "0.bias: Parameter containing:\n",
            "tensor([ 0.2343,  0.1165, -0.0546, -0.0151, -0.1217, -0.1821, -0.0200,  0.1949],\n",
            "       requires_grad=True)\n",
            "2.weight: Parameter containing:\n",
            "tensor([[ 9.7583e-02, -2.7591e-01, -3.1701e-01,  3.5409e-03,  1.7364e-01,\n",
            "         -8.5467e-03,  2.2678e-01, -4.6463e-02],\n",
            "        [-1.4169e-01,  2.3407e-01, -3.0323e-01,  5.0683e-02, -3.0637e-01,\n",
            "          2.7726e-01,  9.4276e-02, -2.0892e-01],\n",
            "        [-1.2644e-01,  2.1714e-01, -1.3127e-01,  2.3405e-01,  3.1890e-04,\n",
            "         -2.8732e-01, -3.2389e-01,  2.3166e-02],\n",
            "        [-2.0125e-01,  1.6398e-01, -3.5707e-01, -2.4832e-01,  2.9636e-01,\n",
            "         -2.6358e-01,  1.4306e-01, -1.3196e-02],\n",
            "        [ 1.5284e-02,  1.7837e-01,  3.0617e-01,  3.6318e-01,  3.1509e-02,\n",
            "          2.9119e-01,  2.5730e-01, -2.7722e-01],\n",
            "        [ 2.8735e-01, -5.3412e-02, -3.1236e-01, -1.2797e-01,  2.0001e-01,\n",
            "          7.0849e-02,  1.2656e-01,  8.5089e-02],\n",
            "        [ 7.6133e-02,  2.1013e-01,  6.5110e-02,  2.1124e-01,  1.3822e-01,\n",
            "          3.1908e-01,  5.9729e-04, -3.3856e-01],\n",
            "        [ 1.4992e-02, -2.0275e-01, -1.2023e-01, -1.3881e-01,  1.3585e-01,\n",
            "          2.6157e-01, -1.2485e-01,  5.3506e-02]], requires_grad=True)\n",
            "2.bias: Parameter containing:\n",
            "tensor([-0.2819, -0.1051,  0.1661,  0.2800,  0.2351,  0.1939,  0.3031,  0.2237],\n",
            "       requires_grad=True)\n",
            "4.weight: Parameter containing:\n",
            "tensor([[-0.0929, -0.1069, -0.2981,  0.1905, -0.1632,  0.0261, -0.2498,  0.2880],\n",
            "        [ 0.0586,  0.1228,  0.3381,  0.3192, -0.0406, -0.1901,  0.2929, -0.2460]],\n",
            "       requires_grad=True)\n",
            "4.bias: Parameter containing:\n",
            "tensor([ 0.3207, -0.3526], requires_grad=True)\n"
          ]
        }
      ],
      "source": [
        "for name,param in actor.named_parameters():\n",
        "        print(f'{name}: {param}')"
      ]
    },
    {
      "cell_type": "code",
      "execution_count": 43,
      "metadata": {
        "id": "IP7L-bOfMamw"
      },
      "outputs": [],
      "source": [
        "# Saving Model and state_dict()\n",
        "torch.save(actor.state_dict(), 'models/Actor_State_Dict.pth')\n",
        "torch.save(actor, 'models/ACTOR.pth')\n",
        "torch.save(critic.state_dict(), 'models/Critic_State_Dict.pth')\n",
        "torch.save(critic, 'models/CRITIC.pth')"
      ]
    },
    {
      "cell_type": "code",
      "execution_count": 44,
      "metadata": {
        "colab": {
          "base_uri": "https://localhost:8080/"
        },
        "id": "Cm_r9sAqMamw",
        "outputId": "c1d9bb61-b8ff-41c0-912b-132b2dbd2b75"
      },
      "outputs": [
        {
          "output_type": "execute_result",
          "data": {
            "text/plain": [
              "Sequential(\n",
              "  (0): Linear(in_features=14, out_features=8, bias=True)\n",
              "  (1): LeakyReLU(negative_slope=0.01)\n",
              "  (2): Linear(in_features=8, out_features=8, bias=True)\n",
              "  (3): LeakyReLU(negative_slope=0.01)\n",
              "  (4): Linear(in_features=8, out_features=2, bias=True)\n",
              "  (5): Softmax(dim=-1)\n",
              ")"
            ]
          },
          "metadata": {},
          "execution_count": 44
        }
      ],
      "source": [
        "actor.eval()"
      ]
    },
    {
      "cell_type": "code",
      "execution_count": 45,
      "metadata": {
        "colab": {
          "base_uri": "https://localhost:8080/"
        },
        "id": "RJ2_67KsMamw",
        "outputId": "d321aec6-42d4-4127-dd76-b740a3584e12"
      },
      "outputs": [
        {
          "output_type": "execute_result",
          "data": {
            "text/plain": [
              "Sequential(\n",
              "  (0): Linear(in_features=14, out_features=8, bias=True)\n",
              "  (1): LeakyReLU(negative_slope=0.01)\n",
              "  (2): Linear(in_features=8, out_features=8, bias=True)\n",
              "  (3): LeakyReLU(negative_slope=0.01)\n",
              "  (4): Linear(in_features=8, out_features=1, bias=True)\n",
              ")"
            ]
          },
          "metadata": {},
          "execution_count": 45
        }
      ],
      "source": [
        "critic.eval()"
      ]
    },
    {
      "cell_type": "code",
      "execution_count": 46,
      "metadata": {
        "id": "dc9rcNI5Mamx"
      },
      "outputs": [],
      "source": [
        "actor = torch.load('models/ACTOR.pth')\n",
        "with open('models/robust_scaler_6M.pkl', 'rb') as f:\n",
        "    transformer_new = pickle.load(f)"
      ]
    },
    {
      "cell_type": "code",
      "execution_count": 50,
      "metadata": {
        "colab": {
          "base_uri": "https://localhost:8080/"
        },
        "id": "bPuLuPV1Mamx",
        "outputId": "893e3e18-fd6e-40eb-f649-9c6da9b47afc"
      },
      "outputs": [
        {
          "output_type": "stream",
          "name": "stdout",
          "text": [
            "(19806, 14)\n",
            "Invalid Timestamp entries:\n",
            "Empty DataFrame\n",
            "Columns: [Amount Received, Amount Paid, Timestamp, From Bank, Account, To Bank, Account.1, Receiving Currency, Payment Currency, Payment Format]\n",
            "Index: []\n"
          ]
        }
      ],
      "source": [
        "# Normalizing test data\n",
        "X_numerical_test = X_test[['Amount Received','Amount Paid']]\n",
        "X_non_numerical_test = X_test.drop(['Amount Received','Amount Paid'], axis = 1)\n",
        "normalized_numerical_test = pd.DataFrame(transformer.transform(X_numerical_test), columns = X_numerical_test.columns)\n",
        "# print(normalized_numerical_test.shape)\n",
        "normalized_numerical_test.reset_index(drop = True , inplace= True)\n",
        "X_non_numerical_test.reset_index(drop = True , inplace= True)\n",
        "X_test = pd.concat([normalized_numerical_test, X_non_numerical_test], axis = 1)\n",
        "print(X_test.shape)\n",
        "\n",
        "# Identify non-datetime values in the 'Timestamp' column\n",
        "# invalid_timestamps = X_test[~X_test['Timestamp'].str.match(r'\\d{4}/\\d{2}/\\d{2} \\d{2}:\\d{2}', na=False)]\n",
        "print(\"Invalid Timestamp entries:\")\n",
        "print(invalid_timestamps)\n",
        "\n",
        "# Remove rows with invalid 'Timestamp' values\n",
        "# X_test = X_test[X_test['Timestamp'].str.match(r'\\d{4}/\\d{2}/\\d{2} \\d{2}:\\d{2}', na=False)]\n",
        "\n",
        "# Convert 'Timestamp' to datetime format after cleaning\n",
        "# X_test['Timestamp'] = pd.to_datetime(X_test['Timestamp'], format='%Y/%m/%d %H:%M')\n",
        "\n",
        "# Extract features from 'Timestamp'\n",
        "# X_test['Year'] = X_test['Timestamp'].dt.year\n",
        "# X_test['Month'] = X_test['Timestamp'].dt.month\n",
        "# X_test['Day'] = X_test['Timestamp'].dt.day\n",
        "# X_test['Hour'] = X_test['Timestamp'].dt.hour\n",
        "# X_test['Minute'] = X_test['Timestamp'].dt.minute\n",
        "\n",
        "# Drop the original 'Timestamp' column\n",
        "# X_test.drop('Timestamp', axis=1, inplace=True)\n",
        "\n"
      ]
    },
    {
      "cell_type": "code",
      "execution_count": 51,
      "metadata": {
        "colab": {
          "base_uri": "https://localhost:8080/"
        },
        "id": "GMeCPH60Mamx",
        "outputId": "c8ec7400-870f-4bad-8130-55d94c15a7ba"
      },
      "outputs": [
        {
          "output_type": "execute_result",
          "data": {
            "text/plain": [
              "(19806, 14)"
            ]
          },
          "metadata": {},
          "execution_count": 51
        }
      ],
      "source": [
        "X_test.shape"
      ]
    },
    {
      "cell_type": "code",
      "source": [
        "from sklearn.preprocessing import LabelEncoder\n",
        "import torch\n",
        "\n",
        "# Convert categorical variables in X_test to numerical format\n",
        "categorical_cols = ['From Bank', 'Account', 'Account.1', 'Receiving Currency', 'Payment Currency', 'Payment Format']\n",
        "label_encoder = LabelEncoder()\n",
        "\n",
        "for col in categorical_cols:\n",
        "    if col in X_test.columns:\n",
        "        X_test[col] = label_encoder.fit_transform(X_test[col].astype(str))\n",
        "\n",
        "# Fill missing values if any\n",
        "X_test.fillna(0, inplace=True)\n",
        "\n",
        "# Testing on test dataset\n",
        "y_pred = []\n",
        "with torch.no_grad():\n",
        "    for i in range(len(X_test)):\n",
        "        test_state = torch.FloatTensor(X_test.iloc[i].values).unsqueeze(0)  # Use .values to convert to numpy array\n",
        "        probabilities = actor(test_state)\n",
        "        action = torch.multinomial(probabilities, num_samples=1).item()\n",
        "        y_pred.append(action)\n",
        "\n",
        "print(len(y_pred))\n"
      ],
      "metadata": {
        "colab": {
          "base_uri": "https://localhost:8080/"
        },
        "id": "-xyDhnELFoic",
        "outputId": "f9461d59-99f9-4984-f85a-1e450370e937"
      },
      "execution_count": 52,
      "outputs": [
        {
          "output_type": "stream",
          "name": "stdout",
          "text": [
            "19806\n"
          ]
        }
      ]
    },
    {
      "cell_type": "code",
      "execution_count": 53,
      "metadata": {
        "colab": {
          "base_uri": "https://localhost:8080/"
        },
        "id": "HC59vyIgMamy",
        "outputId": "f11cecac-2cb7-4ca3-9805-764ef1d574a6"
      },
      "outputs": [
        {
          "output_type": "stream",
          "name": "stdout",
          "text": [
            "(19806,)\n",
            "<class 'numpy.ndarray'>\n",
            "[1 1 1 1 1 1 1 1 1 1]\n"
          ]
        }
      ],
      "source": [
        "y_pred = np.array(y_pred)\n",
        "print(y_pred.shape)\n",
        "print(type(y_pred))\n",
        "print(y_pred[:10])"
      ]
    },
    {
      "cell_type": "code",
      "execution_count": 54,
      "metadata": {
        "colab": {
          "base_uri": "https://localhost:8080/"
        },
        "id": "uaJnllU2Mamy",
        "outputId": "12042b5f-a302-4d93-ca31-ef755ab12b50"
      },
      "outputs": [
        {
          "output_type": "stream",
          "name": "stdout",
          "text": [
            "(19806,)\n",
            "<class 'pandas.core.series.Series'>\n"
          ]
        }
      ],
      "source": [
        "y = y_test.to_numpy()\n",
        "print(y_test.shape)\n",
        "print(type(y_test))"
      ]
    },
    {
      "cell_type": "code",
      "execution_count": 55,
      "metadata": {
        "colab": {
          "base_uri": "https://localhost:8080/"
        },
        "id": "VQ6Hy0B9Mamy",
        "outputId": "01b69d1d-bf3c-4833-9694-2192c24352dc"
      },
      "outputs": [
        {
          "output_type": "stream",
          "name": "stdout",
          "text": [
            "              precision    recall  f1-score   support\n",
            "\n",
            "           0       0.99      0.01      0.01     19787\n",
            "           1       0.00      0.95      0.00        19\n",
            "\n",
            "    accuracy                           0.01     19806\n",
            "   macro avg       0.50      0.48      0.01     19806\n",
            "weighted avg       0.99      0.01      0.01     19806\n",
            "\n"
          ]
        }
      ],
      "source": [
        "print(classification_report(y_test, y_pred))"
      ]
    },
    {
      "cell_type": "code",
      "execution_count": 56,
      "metadata": {
        "colab": {
          "base_uri": "https://localhost:8080/",
          "height": 449
        },
        "id": "emlYdulAMamy",
        "outputId": "563b7614-aec8-45ed-f430-90da0b6c923b"
      },
      "outputs": [
        {
          "output_type": "display_data",
          "data": {
            "text/plain": [
              "<Figure size 640x480 with 2 Axes>"
            ],
            "image/png": "[encoded data removed]"
          },
          "metadata": {}
        }
      ],
      "source": [
        "cm = confusion_matrix(y_test, y_pred)\n",
        "disp = ConfusionMatrixDisplay(confusion_matrix=cm)\n",
        "disp.plot()\n",
        "plt.show()\n"
      ]
    },
    {
      "cell_type": "code",
      "source": [],
      "metadata": {
        "id": "5LTRgyKh8utA"
      },
      "execution_count": null,
      "outputs": []
    }
  ]
}